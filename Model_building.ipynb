{
 "cells": [
  {
   "cell_type": "code",
   "execution_count": 12,
   "metadata": {},
   "outputs": [
    {
     "name": "stderr",
     "output_type": "stream",
     "text": [
      "[nltk_data] Downloading package stopwords to\n",
      "[nltk_data]     C:\\Users\\Admin\\AppData\\Roaming\\nltk_data...\n",
      "[nltk_data]   Package stopwords is already up-to-date!\n"
     ]
    }
   ],
   "source": [
    "#Load data-preprocessing libraries\n",
    "import pandas as pd\n",
    "import numpy as np\n",
    "\n",
    "#Text processing libraries\n",
    "import re\n",
    "import nltk\n",
    "from nltk.corpus import stopwords  \n",
    "from nltk.stem import WordNetLemmatizer\n",
    "from sklearn.feature_extraction.text import TfidfVectorizer #feature extraction\n",
    "\n",
    "#Load data-visualization libraries\n",
    "import matplotlib.pyplot as plt\n",
    "import seaborn as sns\n",
    "\n",
    "#model building\n",
    "from sklearn.model_selection import train_test_split \n",
    "from sklearn.linear_model import LogisticRegression\n",
    "from sklearn.tree import DecisionTreeClassifier\n",
    "from sklearn.ensemble import RandomForestClassifier\n",
    "from sklearn.naive_bayes import MultinomialNB\n",
    "\n",
    "#evaluation metrics\n",
    "from sklearn.metrics import f1_score,accuracy_score,confusion_matrix\n",
    "\n",
    "nltk.download('stopwords')\n",
    "stop_words = set(stopwords.words('english')) \n",
    "\n",
    "lemmatizer = WordNetLemmatizer() \n",
    "\n",
    "pd.pandas.set_option('display.max_columns',None)"
   ]
  },
  {
   "cell_type": "code",
   "execution_count": 2,
   "metadata": {},
   "outputs": [
    {
     "data": {
      "text/html": [
       "<div>\n",
       "<style scoped>\n",
       "    .dataframe tbody tr th:only-of-type {\n",
       "        vertical-align: middle;\n",
       "    }\n",
       "\n",
       "    .dataframe tbody tr th {\n",
       "        vertical-align: top;\n",
       "    }\n",
       "\n",
       "    .dataframe thead th {\n",
       "        text-align: right;\n",
       "    }\n",
       "</style>\n",
       "<table border=\"1\" class=\"dataframe\">\n",
       "  <thead>\n",
       "    <tr style=\"text-align: right;\">\n",
       "      <th></th>\n",
       "      <th>Sentiment</th>\n",
       "      <th>Tweet_word_count</th>\n",
       "      <th>Tweet_char_count</th>\n",
       "      <th>Tweet_clean</th>\n",
       "      <th>ApexLegends</th>\n",
       "      <th>AssassinsCreed</th>\n",
       "      <th>Battlefield</th>\n",
       "      <th>Borderlands</th>\n",
       "      <th>CS-GO</th>\n",
       "      <th>CallOfDuty</th>\n",
       "      <th>CallOfDutyBlackopsColdWar</th>\n",
       "      <th>Cyberpunk2077</th>\n",
       "      <th>Dota2</th>\n",
       "      <th>FIFA</th>\n",
       "      <th>Facebook</th>\n",
       "      <th>Fortnite</th>\n",
       "      <th>Google</th>\n",
       "      <th>GrandTheftAuto(GTA)</th>\n",
       "      <th>Hearthstone</th>\n",
       "      <th>HomeDepot</th>\n",
       "      <th>LeagueOfLegends</th>\n",
       "      <th>MaddenNFL</th>\n",
       "      <th>Microsoft</th>\n",
       "      <th>NBA2K</th>\n",
       "      <th>Nvidia</th>\n",
       "      <th>Overwatch</th>\n",
       "      <th>PlayStation5(PS5)</th>\n",
       "      <th>PlayerUnknownsBattlegrounds(PUBG)</th>\n",
       "      <th>RedDeadRedemption(RDR)</th>\n",
       "      <th>TomClancysGhostRecon</th>\n",
       "      <th>TomClancysRainbowSix</th>\n",
       "      <th>Verizon</th>\n",
       "      <th>WorldOfCraft</th>\n",
       "      <th>Xbox(Xseries)</th>\n",
       "      <th>johnson&amp;johnson</th>\n",
       "    </tr>\n",
       "  </thead>\n",
       "  <tbody>\n",
       "    <tr>\n",
       "      <th>0</th>\n",
       "      <td>1</td>\n",
       "      <td>11</td>\n",
       "      <td>43</td>\n",
       "      <td>im getting borderland murder</td>\n",
       "      <td>0</td>\n",
       "      <td>0</td>\n",
       "      <td>0</td>\n",
       "      <td>1</td>\n",
       "      <td>0</td>\n",
       "      <td>0</td>\n",
       "      <td>0</td>\n",
       "      <td>0</td>\n",
       "      <td>0</td>\n",
       "      <td>0</td>\n",
       "      <td>0</td>\n",
       "      <td>0</td>\n",
       "      <td>0</td>\n",
       "      <td>0</td>\n",
       "      <td>0</td>\n",
       "      <td>0</td>\n",
       "      <td>0</td>\n",
       "      <td>0</td>\n",
       "      <td>0</td>\n",
       "      <td>0</td>\n",
       "      <td>0</td>\n",
       "      <td>0</td>\n",
       "      <td>0</td>\n",
       "      <td>0</td>\n",
       "      <td>0</td>\n",
       "      <td>0</td>\n",
       "      <td>0</td>\n",
       "      <td>0</td>\n",
       "      <td>0</td>\n",
       "      <td>0</td>\n",
       "      <td>0</td>\n",
       "    </tr>\n",
       "    <tr>\n",
       "      <th>1</th>\n",
       "      <td>1</td>\n",
       "      <td>12</td>\n",
       "      <td>40</td>\n",
       "      <td>coming border kill</td>\n",
       "      <td>0</td>\n",
       "      <td>0</td>\n",
       "      <td>0</td>\n",
       "      <td>1</td>\n",
       "      <td>0</td>\n",
       "      <td>0</td>\n",
       "      <td>0</td>\n",
       "      <td>0</td>\n",
       "      <td>0</td>\n",
       "      <td>0</td>\n",
       "      <td>0</td>\n",
       "      <td>0</td>\n",
       "      <td>0</td>\n",
       "      <td>0</td>\n",
       "      <td>0</td>\n",
       "      <td>0</td>\n",
       "      <td>0</td>\n",
       "      <td>0</td>\n",
       "      <td>0</td>\n",
       "      <td>0</td>\n",
       "      <td>0</td>\n",
       "      <td>0</td>\n",
       "      <td>0</td>\n",
       "      <td>0</td>\n",
       "      <td>0</td>\n",
       "      <td>0</td>\n",
       "      <td>0</td>\n",
       "      <td>0</td>\n",
       "      <td>0</td>\n",
       "      <td>0</td>\n",
       "      <td>0</td>\n",
       "    </tr>\n",
       "    <tr>\n",
       "      <th>2</th>\n",
       "      <td>1</td>\n",
       "      <td>10</td>\n",
       "      <td>41</td>\n",
       "      <td>im getting borderland kill</td>\n",
       "      <td>0</td>\n",
       "      <td>0</td>\n",
       "      <td>0</td>\n",
       "      <td>1</td>\n",
       "      <td>0</td>\n",
       "      <td>0</td>\n",
       "      <td>0</td>\n",
       "      <td>0</td>\n",
       "      <td>0</td>\n",
       "      <td>0</td>\n",
       "      <td>0</td>\n",
       "      <td>0</td>\n",
       "      <td>0</td>\n",
       "      <td>0</td>\n",
       "      <td>0</td>\n",
       "      <td>0</td>\n",
       "      <td>0</td>\n",
       "      <td>0</td>\n",
       "      <td>0</td>\n",
       "      <td>0</td>\n",
       "      <td>0</td>\n",
       "      <td>0</td>\n",
       "      <td>0</td>\n",
       "      <td>0</td>\n",
       "      <td>0</td>\n",
       "      <td>0</td>\n",
       "      <td>0</td>\n",
       "      <td>0</td>\n",
       "      <td>0</td>\n",
       "      <td>0</td>\n",
       "      <td>0</td>\n",
       "    </tr>\n",
       "    <tr>\n",
       "      <th>3</th>\n",
       "      <td>1</td>\n",
       "      <td>10</td>\n",
       "      <td>42</td>\n",
       "      <td>im coming borderland murder</td>\n",
       "      <td>0</td>\n",
       "      <td>0</td>\n",
       "      <td>0</td>\n",
       "      <td>1</td>\n",
       "      <td>0</td>\n",
       "      <td>0</td>\n",
       "      <td>0</td>\n",
       "      <td>0</td>\n",
       "      <td>0</td>\n",
       "      <td>0</td>\n",
       "      <td>0</td>\n",
       "      <td>0</td>\n",
       "      <td>0</td>\n",
       "      <td>0</td>\n",
       "      <td>0</td>\n",
       "      <td>0</td>\n",
       "      <td>0</td>\n",
       "      <td>0</td>\n",
       "      <td>0</td>\n",
       "      <td>0</td>\n",
       "      <td>0</td>\n",
       "      <td>0</td>\n",
       "      <td>0</td>\n",
       "      <td>0</td>\n",
       "      <td>0</td>\n",
       "      <td>0</td>\n",
       "      <td>0</td>\n",
       "      <td>0</td>\n",
       "      <td>0</td>\n",
       "      <td>0</td>\n",
       "      <td>0</td>\n",
       "    </tr>\n",
       "    <tr>\n",
       "      <th>4</th>\n",
       "      <td>1</td>\n",
       "      <td>12</td>\n",
       "      <td>46</td>\n",
       "      <td>im getting borderland murder</td>\n",
       "      <td>0</td>\n",
       "      <td>0</td>\n",
       "      <td>0</td>\n",
       "      <td>1</td>\n",
       "      <td>0</td>\n",
       "      <td>0</td>\n",
       "      <td>0</td>\n",
       "      <td>0</td>\n",
       "      <td>0</td>\n",
       "      <td>0</td>\n",
       "      <td>0</td>\n",
       "      <td>0</td>\n",
       "      <td>0</td>\n",
       "      <td>0</td>\n",
       "      <td>0</td>\n",
       "      <td>0</td>\n",
       "      <td>0</td>\n",
       "      <td>0</td>\n",
       "      <td>0</td>\n",
       "      <td>0</td>\n",
       "      <td>0</td>\n",
       "      <td>0</td>\n",
       "      <td>0</td>\n",
       "      <td>0</td>\n",
       "      <td>0</td>\n",
       "      <td>0</td>\n",
       "      <td>0</td>\n",
       "      <td>0</td>\n",
       "      <td>0</td>\n",
       "      <td>0</td>\n",
       "      <td>0</td>\n",
       "    </tr>\n",
       "  </tbody>\n",
       "</table>\n",
       "</div>"
      ],
      "text/plain": [
       "   Sentiment  Tweet_word_count  Tweet_char_count  \\\n",
       "0          1                11                43   \n",
       "1          1                12                40   \n",
       "2          1                10                41   \n",
       "3          1                10                42   \n",
       "4          1                12                46   \n",
       "\n",
       "                    Tweet_clean  ApexLegends  AssassinsCreed  Battlefield  \\\n",
       "0  im getting borderland murder            0               0            0   \n",
       "1            coming border kill            0               0            0   \n",
       "2    im getting borderland kill            0               0            0   \n",
       "3   im coming borderland murder            0               0            0   \n",
       "4  im getting borderland murder            0               0            0   \n",
       "\n",
       "   Borderlands  CS-GO  CallOfDuty  CallOfDutyBlackopsColdWar  Cyberpunk2077  \\\n",
       "0            1      0           0                          0              0   \n",
       "1            1      0           0                          0              0   \n",
       "2            1      0           0                          0              0   \n",
       "3            1      0           0                          0              0   \n",
       "4            1      0           0                          0              0   \n",
       "\n",
       "   Dota2  FIFA  Facebook  Fortnite  Google  GrandTheftAuto(GTA)  Hearthstone  \\\n",
       "0      0     0         0         0       0                    0            0   \n",
       "1      0     0         0         0       0                    0            0   \n",
       "2      0     0         0         0       0                    0            0   \n",
       "3      0     0         0         0       0                    0            0   \n",
       "4      0     0         0         0       0                    0            0   \n",
       "\n",
       "   HomeDepot  LeagueOfLegends  MaddenNFL  Microsoft  NBA2K  Nvidia  Overwatch  \\\n",
       "0          0                0          0          0      0       0          0   \n",
       "1          0                0          0          0      0       0          0   \n",
       "2          0                0          0          0      0       0          0   \n",
       "3          0                0          0          0      0       0          0   \n",
       "4          0                0          0          0      0       0          0   \n",
       "\n",
       "   PlayStation5(PS5)  PlayerUnknownsBattlegrounds(PUBG)  \\\n",
       "0                  0                                  0   \n",
       "1                  0                                  0   \n",
       "2                  0                                  0   \n",
       "3                  0                                  0   \n",
       "4                  0                                  0   \n",
       "\n",
       "   RedDeadRedemption(RDR)  TomClancysGhostRecon  TomClancysRainbowSix  \\\n",
       "0                       0                     0                     0   \n",
       "1                       0                     0                     0   \n",
       "2                       0                     0                     0   \n",
       "3                       0                     0                     0   \n",
       "4                       0                     0                     0   \n",
       "\n",
       "   Verizon  WorldOfCraft  Xbox(Xseries)  johnson&johnson  \n",
       "0        0             0              0                0  \n",
       "1        0             0              0                0  \n",
       "2        0             0              0                0  \n",
       "3        0             0              0                0  \n",
       "4        0             0              0                0  "
      ]
     },
     "execution_count": 2,
     "metadata": {},
     "output_type": "execute_result"
    }
   ],
   "source": [
    "#Read the dataset\n",
    "df=pd.read_csv('Twitter_cleaned.csv',index_col='Unnamed: 0')\n",
    "df.head()"
   ]
  },
  {
   "cell_type": "code",
   "execution_count": 3,
   "metadata": {},
   "outputs": [
    {
     "data": {
      "text/plain": [
       "(73996, 35)"
      ]
     },
     "execution_count": 3,
     "metadata": {},
     "output_type": "execute_result"
    }
   ],
   "source": [
    "df.shape"
   ]
  },
  {
   "cell_type": "code",
   "execution_count": 4,
   "metadata": {},
   "outputs": [
    {
     "data": {
      "text/plain": [
       "Sentiment                            0.000000\n",
       "Tweet_word_count                     0.000000\n",
       "Tweet_char_count                     0.000000\n",
       "Tweet_clean                          2.310936\n",
       "ApexLegends                          0.000000\n",
       "AssassinsCreed                       0.000000\n",
       "Battlefield                          0.000000\n",
       "Borderlands                          0.000000\n",
       "CS-GO                                0.000000\n",
       "CallOfDuty                           0.000000\n",
       "CallOfDutyBlackopsColdWar            0.000000\n",
       "Cyberpunk2077                        0.000000\n",
       "Dota2                                0.000000\n",
       "FIFA                                 0.000000\n",
       "Facebook                             0.000000\n",
       "Fortnite                             0.000000\n",
       "Google                               0.000000\n",
       "GrandTheftAuto(GTA)                  0.000000\n",
       "Hearthstone                          0.000000\n",
       "HomeDepot                            0.000000\n",
       "LeagueOfLegends                      0.000000\n",
       "MaddenNFL                            0.000000\n",
       "Microsoft                            0.000000\n",
       "NBA2K                                0.000000\n",
       "Nvidia                               0.000000\n",
       "Overwatch                            0.000000\n",
       "PlayStation5(PS5)                    0.000000\n",
       "PlayerUnknownsBattlegrounds(PUBG)    0.000000\n",
       "RedDeadRedemption(RDR)               0.000000\n",
       "TomClancysGhostRecon                 0.000000\n",
       "TomClancysRainbowSix                 0.000000\n",
       "Verizon                              0.000000\n",
       "WorldOfCraft                         0.000000\n",
       "Xbox(Xseries)                        0.000000\n",
       "johnson&johnson                      0.000000\n",
       "dtype: float64"
      ]
     },
     "execution_count": 4,
     "metadata": {},
     "output_type": "execute_result"
    }
   ],
   "source": [
    "#check for null values\n",
    "(df.isnull().sum()/len(df))*100"
   ]
  },
  {
   "cell_type": "code",
   "execution_count": 5,
   "metadata": {},
   "outputs": [],
   "source": [
    "df.dropna(axis=0,how='any',inplace=True)"
   ]
  },
  {
   "cell_type": "code",
   "execution_count": 6,
   "metadata": {},
   "outputs": [
    {
     "data": {
      "text/plain": [
       "Sentiment                            0\n",
       "Tweet_word_count                     0\n",
       "Tweet_char_count                     0\n",
       "Tweet_clean                          0\n",
       "ApexLegends                          0\n",
       "AssassinsCreed                       0\n",
       "Battlefield                          0\n",
       "Borderlands                          0\n",
       "CS-GO                                0\n",
       "CallOfDuty                           0\n",
       "CallOfDutyBlackopsColdWar            0\n",
       "Cyberpunk2077                        0\n",
       "Dota2                                0\n",
       "FIFA                                 0\n",
       "Facebook                             0\n",
       "Fortnite                             0\n",
       "Google                               0\n",
       "GrandTheftAuto(GTA)                  0\n",
       "Hearthstone                          0\n",
       "HomeDepot                            0\n",
       "LeagueOfLegends                      0\n",
       "MaddenNFL                            0\n",
       "Microsoft                            0\n",
       "NBA2K                                0\n",
       "Nvidia                               0\n",
       "Overwatch                            0\n",
       "PlayStation5(PS5)                    0\n",
       "PlayerUnknownsBattlegrounds(PUBG)    0\n",
       "RedDeadRedemption(RDR)               0\n",
       "TomClancysGhostRecon                 0\n",
       "TomClancysRainbowSix                 0\n",
       "Verizon                              0\n",
       "WorldOfCraft                         0\n",
       "Xbox(Xseries)                        0\n",
       "johnson&johnson                      0\n",
       "dtype: int64"
      ]
     },
     "execution_count": 6,
     "metadata": {},
     "output_type": "execute_result"
    }
   ],
   "source": [
    "df.isnull().sum()"
   ]
  },
  {
   "cell_type": "code",
   "execution_count": null,
   "metadata": {},
   "outputs": [],
   "source": []
  },
  {
   "cell_type": "code",
   "execution_count": 7,
   "metadata": {},
   "outputs": [],
   "source": [
    "#Seperate dependent and independent features\n",
    "X=df.loc[:,df.columns!='Sentiment']\n",
    "y=df['Sentiment']"
   ]
  },
  {
   "cell_type": "code",
   "execution_count": 8,
   "metadata": {},
   "outputs": [
    {
     "name": "stdout",
     "output_type": "stream",
     "text": [
      "Train (50600, 34) (50600,)\n",
      "Test (21686, 34) (21686,)\n"
     ]
    }
   ],
   "source": [
    "# Break off validation set from training data\n",
    "X_train, X_valid, y_train, y_valid = train_test_split(X, y, train_size=0.7, test_size=0.3, random_state=0)\n",
    "# summarize\n",
    "print('Train', X_train.shape, y_train.shape)\n",
    "print('Test', X_valid.shape, y_valid.shape)"
   ]
  },
  {
   "cell_type": "code",
   "execution_count": 9,
   "metadata": {},
   "outputs": [
    {
     "data": {
      "text/plain": [
       "((50600, 30673), (21686, 30673))"
      ]
     },
     "execution_count": 9,
     "metadata": {},
     "output_type": "execute_result"
    }
   ],
   "source": [
    "vectorizer = TfidfVectorizer(stop_words='english') \n",
    "features_train= vectorizer.fit_transform(X_train['Tweet_clean'])\n",
    "features_valid= vectorizer.transform(X_valid['Tweet_clean'])\n",
    "features_train.shape, features_valid.shape"
   ]
  },
  {
   "cell_type": "code",
   "execution_count": 16,
   "metadata": {},
   "outputs": [],
   "source": [
    "#Function to fit and apply a model\n",
    "def model_apply(model):\n",
    "    #train the model\n",
    "    model.fit(features_train,y_train)\n",
    "    #make predictions\n",
    "    pred=model.predict(features_valid)\n",
    "    #model evaluation\n",
    "    print(model)\n",
    "    print('Accuracy score: ',accuracy_score(pred,y_valid))\n",
    "    print('Weighted F1 score: ',f1_score(y_pred=pred,y_true=y_valid,average='weighted'))\n",
    "    print('Confusion Matrix: \\n',confusion_matrix(pred,y_valid))"
   ]
  },
  {
   "cell_type": "code",
   "execution_count": 17,
   "metadata": {},
   "outputs": [
    {
     "name": "stdout",
     "output_type": "stream",
     "text": [
      "MultinomialNB()\n",
      "Accuracy score:  0.7666236281471918\n",
      "Weighted F1 score:  0.7644683478536343\n",
      "Confusion Matrix: \n",
      " [[4974  779  561]\n",
      " [1319 7782 1648]\n",
      " [ 250  504 3869]]\n"
     ]
    }
   ],
   "source": [
    "#Multinomial Naive Bayes\n",
    "nb=MultinomialNB()\n",
    "model_apply(nb)"
   ]
  },
  {
   "cell_type": "code",
   "execution_count": 19,
   "metadata": {},
   "outputs": [
    {
     "name": "stdout",
     "output_type": "stream",
     "text": [
      "LogisticRegression(max_iter=500, random_state=10)\n",
      "Accuracy score:  0.7886193857788435\n",
      "Weighted F1 score:  0.7881407552350195\n",
      "Confusion Matrix: \n",
      " [[5116  766  452]\n",
      " [1047 7545 1185]\n",
      " [ 380  754 4441]]\n"
     ]
    }
   ],
   "source": [
    "#Logistic Regression\n",
    "lr=LogisticRegression(random_state=10,max_iter=500)\n",
    "model_apply(lr)"
   ]
  },
  {
   "cell_type": "code",
   "execution_count": 20,
   "metadata": {},
   "outputs": [
    {
     "name": "stdout",
     "output_type": "stream",
     "text": [
      "DecisionTreeClassifier(random_state=10)\n",
      "Accuracy score:  0.8060499861661902\n",
      "Weighted F1 score:  0.8059525946403627\n",
      "Confusion Matrix: \n",
      " [[5330  824  446]\n",
      " [ 844 7426  908]\n",
      " [ 369  815 4724]]\n"
     ]
    }
   ],
   "source": [
    "#Decision Tree\n",
    "dtc=DecisionTreeClassifier(random_state=10)\n",
    "model_apply(dtc)"
   ]
  },
  {
   "cell_type": "code",
   "execution_count": 21,
   "metadata": {},
   "outputs": [
    {
     "name": "stdout",
     "output_type": "stream",
     "text": [
      "RandomForestClassifier(random_state=101)\n",
      "Accuracy score:  0.9060684312459651\n",
      "Weighted F1 score:  0.906005151471547\n",
      "Confusion Matrix: \n",
      " [[5915  310  183]\n",
      " [ 479 8414  575]\n",
      " [ 149  341 5320]]\n"
     ]
    }
   ],
   "source": [
    "#Random Forest\n",
    "rf=RandomForestClassifier(random_state=101)\n",
    "model_apply(rf)"
   ]
  },
  {
   "cell_type": "code",
   "execution_count": null,
   "metadata": {},
   "outputs": [],
   "source": []
  },
  {
   "cell_type": "code",
   "execution_count": null,
   "metadata": {},
   "outputs": [],
   "source": []
  },
  {
   "cell_type": "code",
   "execution_count": null,
   "metadata": {},
   "outputs": [],
   "source": []
  },
  {
   "cell_type": "code",
   "execution_count": null,
   "metadata": {},
   "outputs": [],
   "source": []
  },
  {
   "cell_type": "code",
   "execution_count": null,
   "metadata": {},
   "outputs": [],
   "source": []
  },
  {
   "cell_type": "code",
   "execution_count": null,
   "metadata": {},
   "outputs": [],
   "source": []
  },
  {
   "cell_type": "code",
   "execution_count": null,
   "metadata": {},
   "outputs": [],
   "source": []
  },
  {
   "cell_type": "code",
   "execution_count": null,
   "metadata": {},
   "outputs": [],
   "source": []
  },
  {
   "cell_type": "code",
   "execution_count": null,
   "metadata": {},
   "outputs": [],
   "source": []
  },
  {
   "cell_type": "code",
   "execution_count": null,
   "metadata": {},
   "outputs": [],
   "source": []
  },
  {
   "cell_type": "code",
   "execution_count": null,
   "metadata": {},
   "outputs": [],
   "source": []
  },
  {
   "cell_type": "code",
   "execution_count": null,
   "metadata": {},
   "outputs": [],
   "source": []
  },
  {
   "cell_type": "code",
   "execution_count": null,
   "metadata": {},
   "outputs": [],
   "source": []
  },
  {
   "cell_type": "code",
   "execution_count": null,
   "metadata": {},
   "outputs": [],
   "source": []
  },
  {
   "cell_type": "code",
   "execution_count": null,
   "metadata": {},
   "outputs": [],
   "source": []
  },
  {
   "cell_type": "code",
   "execution_count": null,
   "metadata": {},
   "outputs": [],
   "source": []
  },
  {
   "cell_type": "code",
   "execution_count": null,
   "metadata": {},
   "outputs": [],
   "source": []
  },
  {
   "cell_type": "code",
   "execution_count": null,
   "metadata": {},
   "outputs": [],
   "source": []
  },
  {
   "cell_type": "code",
   "execution_count": null,
   "metadata": {},
   "outputs": [],
   "source": []
  },
  {
   "cell_type": "code",
   "execution_count": null,
   "metadata": {},
   "outputs": [],
   "source": []
  },
  {
   "cell_type": "code",
   "execution_count": null,
   "metadata": {},
   "outputs": [],
   "source": []
  },
  {
   "cell_type": "code",
   "execution_count": null,
   "metadata": {},
   "outputs": [],
   "source": []
  },
  {
   "cell_type": "code",
   "execution_count": null,
   "metadata": {},
   "outputs": [],
   "source": []
  },
  {
   "cell_type": "code",
   "execution_count": null,
   "metadata": {},
   "outputs": [],
   "source": []
  },
  {
   "cell_type": "code",
   "execution_count": null,
   "metadata": {},
   "outputs": [],
   "source": []
  },
  {
   "cell_type": "code",
   "execution_count": null,
   "metadata": {},
   "outputs": [],
   "source": []
  },
  {
   "cell_type": "code",
   "execution_count": null,
   "metadata": {},
   "outputs": [],
   "source": []
  },
  {
   "cell_type": "code",
   "execution_count": null,
   "metadata": {},
   "outputs": [],
   "source": []
  },
  {
   "cell_type": "code",
   "execution_count": null,
   "metadata": {},
   "outputs": [],
   "source": []
  },
  {
   "cell_type": "code",
   "execution_count": null,
   "metadata": {},
   "outputs": [],
   "source": []
  },
  {
   "cell_type": "code",
   "execution_count": null,
   "metadata": {},
   "outputs": [],
   "source": []
  },
  {
   "cell_type": "code",
   "execution_count": null,
   "metadata": {},
   "outputs": [],
   "source": []
  }
 ],
 "metadata": {
  "kernelspec": {
   "display_name": "Python 3 (ipykernel)",
   "language": "python",
   "name": "python3"
  },
  "language_info": {
   "codemirror_mode": {
    "name": "ipython",
    "version": 3
   },
   "file_extension": ".py",
   "mimetype": "text/x-python",
   "name": "python",
   "nbconvert_exporter": "python",
   "pygments_lexer": "ipython3",
   "version": "3.7.3"
  }
 },
 "nbformat": 4,
 "nbformat_minor": 2
}
